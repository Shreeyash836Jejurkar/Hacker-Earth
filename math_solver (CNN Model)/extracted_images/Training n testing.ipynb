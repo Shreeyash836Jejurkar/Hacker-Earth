{
  "nbformat": 4,
  "nbformat_minor": 0,
  "metadata": {
    "colab": {
      "name": "Untitled2.ipynb",
      "provenance": []
    },
    "kernelspec": {
      "name": "python3",
      "display_name": "Python 3"
    },
    "accelerator": "GPU"
  },
  "cells": [
    {
      "cell_type": "code",
      "metadata": {
        "id": "PFNhH6STjQS_"
      },
      "source": [
        "import pandas as pd\n",
        "import numpy as np\n",
        "import pickle\n",
        "import keras\n",
        "import cv2\n",
        "from keras.models import Model,Sequential,model_from_json\n",
        "from keras.layers import *\n",
        "from keras import optimizers\n",
        "from keras.layers.convolutional import Conv2D,MaxPooling2D\n",
        "from keras.utils import np_utils\n",
        "from keras import backend as K\n"
      ],
      "execution_count": 26,
      "outputs": []
    },
    {
      "cell_type": "code",
      "metadata": {
        "id": "VzIHHtV41T0D"
      },
      "source": [
        "training=pd.read_csv('train_final.csv',index_col=False)\n",
        "labels=training[['784']]"
      ],
      "execution_count": 13,
      "outputs": []
    },
    {
      "cell_type": "code",
      "metadata": {
        "colab": {
          "base_uri": "https://localhost:8080/",
          "height": 415
        },
        "id": "Hx0XnkQm3jCw",
        "outputId": "22193268-6e1c-4278-9421-abeb4f8e1f9c"
      },
      "source": [
        "labels"
      ],
      "execution_count": 14,
      "outputs": [
        {
          "output_type": "execute_result",
          "data": {
            "text/html": [
              "<div>\n",
              "<style scoped>\n",
              "    .dataframe tbody tr th:only-of-type {\n",
              "        vertical-align: middle;\n",
              "    }\n",
              "\n",
              "    .dataframe tbody tr th {\n",
              "        vertical-align: top;\n",
              "    }\n",
              "\n",
              "    .dataframe thead th {\n",
              "        text-align: right;\n",
              "    }\n",
              "</style>\n",
              "<table border=\"1\" class=\"dataframe\">\n",
              "  <thead>\n",
              "    <tr style=\"text-align: right;\">\n",
              "      <th></th>\n",
              "      <th>784</th>\n",
              "    </tr>\n",
              "  </thead>\n",
              "  <tbody>\n",
              "    <tr>\n",
              "      <th>0</th>\n",
              "      <td>10</td>\n",
              "    </tr>\n",
              "    <tr>\n",
              "      <th>1</th>\n",
              "      <td>10</td>\n",
              "    </tr>\n",
              "    <tr>\n",
              "      <th>2</th>\n",
              "      <td>10</td>\n",
              "    </tr>\n",
              "    <tr>\n",
              "      <th>3</th>\n",
              "      <td>10</td>\n",
              "    </tr>\n",
              "    <tr>\n",
              "      <th>4</th>\n",
              "      <td>10</td>\n",
              "    </tr>\n",
              "    <tr>\n",
              "      <th>...</th>\n",
              "      <td>...</td>\n",
              "    </tr>\n",
              "    <tr>\n",
              "      <th>15255</th>\n",
              "      <td>14</td>\n",
              "    </tr>\n",
              "    <tr>\n",
              "      <th>15256</th>\n",
              "      <td>14</td>\n",
              "    </tr>\n",
              "    <tr>\n",
              "      <th>15257</th>\n",
              "      <td>14</td>\n",
              "    </tr>\n",
              "    <tr>\n",
              "      <th>15258</th>\n",
              "      <td>14</td>\n",
              "    </tr>\n",
              "    <tr>\n",
              "      <th>15259</th>\n",
              "      <td>14</td>\n",
              "    </tr>\n",
              "  </tbody>\n",
              "</table>\n",
              "<p>15260 rows × 1 columns</p>\n",
              "</div>"
            ],
            "text/plain": [
              "       784\n",
              "0       10\n",
              "1       10\n",
              "2       10\n",
              "3       10\n",
              "4       10\n",
              "...    ...\n",
              "15255   14\n",
              "15256   14\n",
              "15257   14\n",
              "15258   14\n",
              "15259   14\n",
              "\n",
              "[15260 rows x 1 columns]"
            ]
          },
          "metadata": {
            "tags": []
          },
          "execution_count": 14
        }
      ]
    },
    {
      "cell_type": "code",
      "metadata": {
        "id": "2NS1DQMG3kbK"
      },
      "source": [
        "training.drop(training.columns[[784]],axis=1,inplace=True)"
      ],
      "execution_count": 15,
      "outputs": []
    },
    {
      "cell_type": "code",
      "metadata": {
        "colab": {
          "base_uri": "https://localhost:8080/"
        },
        "id": "2OGDQRdo4BJw",
        "outputId": "e13ac40f-bd85-4b94-e1b9-1a4d8ecb05e3"
      },
      "source": [
        "type(labels)"
      ],
      "execution_count": 16,
      "outputs": [
        {
          "output_type": "execute_result",
          "data": {
            "text/plain": [
              "pandas.core.frame.DataFrame"
            ]
          },
          "metadata": {
            "tags": []
          },
          "execution_count": 16
        }
      ]
    },
    {
      "cell_type": "code",
      "metadata": {
        "id": "ksdFJQOP4MM4"
      },
      "source": [
        "labels=np.array(labels)"
      ],
      "execution_count": 17,
      "outputs": []
    },
    {
      "cell_type": "code",
      "metadata": {
        "colab": {
          "base_uri": "https://localhost:8080/"
        },
        "id": "jI7ISK504Plg",
        "outputId": "2300bd89-9fb4-4013-93b1-d2705e03ce37"
      },
      "source": [
        "labels.shape"
      ],
      "execution_count": 18,
      "outputs": [
        {
          "output_type": "execute_result",
          "data": {
            "text/plain": [
              "(15260, 1)"
            ]
          },
          "metadata": {
            "tags": []
          },
          "execution_count": 18
        }
      ]
    },
    {
      "cell_type": "code",
      "metadata": {
        "colab": {
          "base_uri": "https://localhost:8080/"
        },
        "id": "EL-TKaLA4Qxe",
        "outputId": "1448f84f-5161-47f9-d895-923302aa9d9c"
      },
      "source": [
        "category=np_utils.to_categorical(labels,num_classes=15)\n",
        "print(category[0])"
      ],
      "execution_count": 19,
      "outputs": [
        {
          "output_type": "stream",
          "text": [
            "[0. 0. 0. 0. 0. 0. 0. 0. 0. 0. 1. 0. 0. 0. 0.]\n"
          ],
          "name": "stdout"
        }
      ]
    },
    {
      "cell_type": "code",
      "metadata": {
        "id": "Qrmo3Ni04vYO"
      },
      "source": [
        "resize=[]\n",
        "for i in range(15260):\n",
        "    resize.append(np.array(training[i:i+1]).reshape(1,28,28))"
      ],
      "execution_count": 20,
      "outputs": []
    },
    {
      "cell_type": "code",
      "metadata": {
        "id": "-8HVeji55GAV"
      },
      "source": [
        "model = Sequential()\n",
        "model.add(Conv2D(30, (5, 5), input_shape=(1,28,28), data_format=\"channels_first\",activation='relu'))\n",
        "model.add(MaxPooling2D(pool_size=(2, 2)))\n",
        "model.add(Conv2D(15, (3, 3), activation='relu'))\n",
        "model.add(MaxPooling2D(pool_size=(2, 2)))\n",
        "model.add(Dropout(0.2))\n",
        "model.add(Flatten())\n",
        "model.add(Dense(128, activation='relu'))\n",
        "model.add(Dense(50, activation='relu'))\n",
        "model.add(Dense(15, activation='softmax'))\n",
        "model.compile(loss='categorical_crossentropy', optimizer='adam', metrics=['accuracy'])"
      ],
      "execution_count": 95,
      "outputs": []
    },
    {
      "cell_type": "code",
      "metadata": {
        "id": "9ali4BmvANbH",
        "colab": {
          "base_uri": "https://localhost:8080/"
        },
        "outputId": "2e95d80d-57ba-4969-9d25-978a3b6123ce"
      },
      "source": [
        "model.fit(np.array(resize), category, epochs=38, batch_size=100,shuffle=True,verbose=1)"
      ],
      "execution_count": 96,
      "outputs": [
        {
          "output_type": "stream",
          "text": [
            "Epoch 1/38\n",
            "153/153 [==============================] - 1s 4ms/step - loss: 2.4446 - accuracy: 0.3434\n",
            "Epoch 2/38\n",
            "153/153 [==============================] - 1s 4ms/step - loss: 1.0620 - accuracy: 0.6543\n",
            "Epoch 3/38\n",
            "153/153 [==============================] - 1s 4ms/step - loss: 0.6576 - accuracy: 0.7804\n",
            "Epoch 4/38\n",
            "153/153 [==============================] - 1s 4ms/step - loss: 0.4808 - accuracy: 0.8315\n",
            "Epoch 5/38\n",
            "153/153 [==============================] - 1s 4ms/step - loss: 0.3883 - accuracy: 0.8632\n",
            "Epoch 6/38\n",
            "153/153 [==============================] - 1s 4ms/step - loss: 0.3357 - accuracy: 0.8771\n",
            "Epoch 7/38\n",
            "153/153 [==============================] - 1s 4ms/step - loss: 0.2979 - accuracy: 0.8911\n",
            "Epoch 8/38\n",
            "153/153 [==============================] - 1s 4ms/step - loss: 0.2670 - accuracy: 0.9005\n",
            "Epoch 9/38\n",
            "153/153 [==============================] - 1s 4ms/step - loss: 0.2388 - accuracy: 0.9108\n",
            "Epoch 10/38\n",
            "153/153 [==============================] - 1s 4ms/step - loss: 0.2274 - accuracy: 0.9102\n",
            "Epoch 11/38\n",
            "153/153 [==============================] - 1s 4ms/step - loss: 0.2148 - accuracy: 0.9168\n",
            "Epoch 12/38\n",
            "153/153 [==============================] - 1s 4ms/step - loss: 0.2007 - accuracy: 0.9213\n",
            "Epoch 13/38\n",
            "153/153 [==============================] - 1s 4ms/step - loss: 0.1934 - accuracy: 0.9218\n",
            "Epoch 14/38\n",
            "153/153 [==============================] - 1s 4ms/step - loss: 0.1828 - accuracy: 0.9271\n",
            "Epoch 15/38\n",
            "153/153 [==============================] - 1s 4ms/step - loss: 0.1678 - accuracy: 0.9332\n",
            "Epoch 16/38\n",
            "153/153 [==============================] - 1s 4ms/step - loss: 0.1686 - accuracy: 0.9324\n",
            "Epoch 17/38\n",
            "153/153 [==============================] - 1s 4ms/step - loss: 0.1621 - accuracy: 0.9356\n",
            "Epoch 18/38\n",
            "153/153 [==============================] - 1s 4ms/step - loss: 0.1621 - accuracy: 0.9347\n",
            "Epoch 19/38\n",
            "153/153 [==============================] - 1s 4ms/step - loss: 0.1497 - accuracy: 0.9393\n",
            "Epoch 20/38\n",
            "153/153 [==============================] - 1s 4ms/step - loss: 0.1408 - accuracy: 0.9414\n",
            "Epoch 21/38\n",
            "153/153 [==============================] - 1s 4ms/step - loss: 0.1460 - accuracy: 0.9394\n",
            "Epoch 22/38\n",
            "153/153 [==============================] - 1s 4ms/step - loss: 0.1492 - accuracy: 0.9387\n",
            "Epoch 23/38\n",
            "153/153 [==============================] - 1s 4ms/step - loss: 0.1341 - accuracy: 0.9440\n",
            "Epoch 24/38\n",
            "153/153 [==============================] - 1s 4ms/step - loss: 0.1256 - accuracy: 0.9478\n",
            "Epoch 25/38\n",
            "153/153 [==============================] - 1s 4ms/step - loss: 0.1262 - accuracy: 0.9466\n",
            "Epoch 26/38\n",
            "153/153 [==============================] - 1s 4ms/step - loss: 0.1358 - accuracy: 0.9447\n",
            "Epoch 27/38\n",
            "153/153 [==============================] - 1s 4ms/step - loss: 0.1247 - accuracy: 0.9461\n",
            "Epoch 28/38\n",
            "153/153 [==============================] - 1s 4ms/step - loss: 0.1235 - accuracy: 0.9476\n",
            "Epoch 29/38\n",
            "153/153 [==============================] - 1s 4ms/step - loss: 0.1243 - accuracy: 0.9493\n",
            "Epoch 30/38\n",
            "153/153 [==============================] - 1s 4ms/step - loss: 0.1152 - accuracy: 0.9536\n",
            "Epoch 31/38\n",
            "153/153 [==============================] - 1s 4ms/step - loss: 0.1192 - accuracy: 0.9509\n",
            "Epoch 32/38\n",
            "153/153 [==============================] - 1s 4ms/step - loss: 0.1100 - accuracy: 0.9558\n",
            "Epoch 33/38\n",
            "153/153 [==============================] - 1s 4ms/step - loss: 0.1126 - accuracy: 0.9532\n",
            "Epoch 34/38\n",
            "153/153 [==============================] - 1s 4ms/step - loss: 0.1154 - accuracy: 0.9527\n",
            "Epoch 35/38\n",
            "153/153 [==============================] - 1s 4ms/step - loss: 0.1123 - accuracy: 0.9525\n",
            "Epoch 36/38\n",
            "153/153 [==============================] - 1s 4ms/step - loss: 0.1046 - accuracy: 0.9562\n",
            "Epoch 37/38\n",
            "153/153 [==============================] - 1s 4ms/step - loss: 0.1077 - accuracy: 0.9560\n",
            "Epoch 38/38\n",
            "153/153 [==============================] - 1s 4ms/step - loss: 0.1046 - accuracy: 0.9579\n"
          ],
          "name": "stdout"
        },
        {
          "output_type": "execute_result",
          "data": {
            "text/plain": [
              "<tensorflow.python.keras.callbacks.History at 0x7f4a1b98fb38>"
            ]
          },
          "metadata": {
            "tags": []
          },
          "execution_count": 96
        }
      ]
    },
    {
      "cell_type": "code",
      "metadata": {
        "id": "pMKOCf6O5Qn1"
      },
      "source": [
        "img = cv2.imread('fiveplusone.jpg',cv2.IMREAD_GRAYSCALE)\n",
        "cv2.waitKey(0)\n",
        "if img is not None:\n",
        "    img=~img\n",
        "    ret,thresh=cv2.threshold(img,127,255,cv2.THRESH_BINARY)\n",
        "    ctrs,ret=cv2.findContours(thresh,cv2.RETR_TREE,cv2.CHAIN_APPROX_SIMPLE)\n",
        "    cnt=sorted(ctrs, key=lambda ctr: cv2.boundingRect(ctr)[0])\n",
        "    w=int(28)\n",
        "    h=int(28)\n",
        "    train_data=[]\n",
        "    #print(len(cnt))\n",
        "    rects=[]\n",
        "    for c in cnt :\n",
        "        x,y,w,h= cv2.boundingRect(c)\n",
        "        rect=[x,y,w,h]\n",
        "        rects.append(rect)\n",
        "    #print(rects)\n",
        "    bool_rect=[]\n",
        "    for r in rects:\n",
        "        l=[]\n",
        "        for rec in rects:\n",
        "            flag=0\n",
        "            if rec!=r:\n",
        "                if r[0]<(rec[0]+rec[2]+10) and rec[0]<(r[0]+r[2]+10) and r[1]<(rec[1]+rec[3]+10) and rec[1]<(r[1]+r[3]+10):\n",
        "                    flag=1\n",
        "                l.append(flag)\n",
        "            if rec==r:\n",
        "                l.append(0)\n",
        "        bool_rect.append(l)\n",
        "    #print(bool_rect)\n",
        "    dump_rect=[]\n",
        "    for i in range(0,len(cnt)):\n",
        "        for j in range(0,len(cnt)):\n",
        "            if bool_rect[i][j]==1:\n",
        "                area1=rects[i][2]*rects[i][3]\n",
        "                area2=rects[j][2]*rects[j][3]\n",
        "                if(area1==min(area1,area2)):\n",
        "                    dump_rect.append(rects[i])\n",
        "    #print(len(dump_rect)) \n",
        "    final_rect=[i for i in rects if i not in dump_rect]\n",
        "    #print(final_rect)\n",
        "    for r in final_rect:\n",
        "        x=r[0]\n",
        "        y=r[1]\n",
        "        w=r[2]\n",
        "        h=r[3]\n",
        "        im_crop =thresh[y:y+h+10,x:x+w+10]\n",
        "        \n",
        "\n",
        "        im_resize = cv2.resize(im_crop,(28,28))\n",
        "        #cv2.imshow(\"work\",im_resize)\n",
        "        cv2.waitKey(0)\n",
        "        #cv2.destroyAllWindows()\n",
        "\n",
        "        im_resize=np.reshape(im_resize,(1,28,28))\n",
        "        train_data.append(im_resize)"
      ],
      "execution_count": 116,
      "outputs": []
    },
    {
      "cell_type": "code",
      "metadata": {
        "id": "ebf2qcwc6HPE",
        "colab": {
          "base_uri": "https://localhost:8080/"
        },
        "outputId": "e1992cb7-077e-4a4b-ff00-7325c2bb9add"
      },
      "source": [
        "s=''\n",
        "for i in range(len(train_data)):\n",
        "    train_data[i]=np.array(train_data[i])\n",
        "    train_data[i]=train_data[i].reshape(1,1,28,28)\n",
        "    result=model.predict_classes(train_data[i])\n",
        "    if(result[0]==10):\n",
        "        s=s+'-'\n",
        "    if(result[0]==11):\n",
        "        s=s+'+'\n",
        "    if(result[0]==12):\n",
        "        s=s+'*'\n",
        "    if(result[0]==13):\n",
        "      s=s+'/'\n",
        "    if(result[0]==14):\n",
        "      s=s+'='\n",
        "    if(result[0]==0):\n",
        "        s=s+'0'\n",
        "    if(result[0]==1):\n",
        "        s=s+'1'\n",
        "    if(result[0]==2):\n",
        "        s=s+'2'\n",
        "    if(result[0]==3):\n",
        "        s=s+'3'\n",
        "    if(result[0]==4):\n",
        "        s=s+'4'\n",
        "    if(result[0]==5):\n",
        "        s=s+'5'\n",
        "    if(result[0]==6):\n",
        "        s=s+'6'\n",
        "    if(result[0]==7):\n",
        "        s=s+'7'\n",
        "    if(result[0]==8):\n",
        "        s=s+'8'\n",
        "    if(result[0]==9):\n",
        "        s=s+'9'\n",
        "    \n",
        "print(s)"
      ],
      "execution_count": 117,
      "outputs": [
        {
          "output_type": "stream",
          "text": [
            "3=+9\n"
          ],
          "name": "stdout"
        }
      ]
    },
    {
      "cell_type": "code",
      "metadata": {
        "colab": {
          "base_uri": "https://localhost:8080/"
        },
        "id": "7sSSjZPusLG_",
        "outputId": "3e859f7d-1f3e-4e3a-801c-cdf65e1cae8b"
      },
      "source": [
        "res=None\n",
        "if(s[-2]=='='):\n",
        "  res=s[-1]\n",
        "  s=s[:-2]\n",
        "predicted=eval(s)\n",
        "if res is None:\n",
        "  print(\"Answer to the Question is:\",str(predicted))\n",
        "elif(res==str(predicted)):\n",
        "  print(\"Correct Answer\")\n",
        "else:\n",
        "  print(\"Wrong Answer\")\n"
      ],
      "execution_count": 106,
      "outputs": [
        {
          "output_type": "stream",
          "text": [
            "Answer to the Question is: 13\n"
          ],
          "name": "stdout"
        }
      ]
    },
    {
      "cell_type": "code",
      "metadata": {
        "id": "NWm3587IsPto"
      },
      "source": [
        ""
      ],
      "execution_count": null,
      "outputs": []
    }
  ]
}